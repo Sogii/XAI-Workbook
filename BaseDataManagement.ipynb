{
 "cells": [
  {
   "cell_type": "code",
   "execution_count": 2,
   "metadata": {},
   "outputs": [],
   "source": [
    "#imports\n",
    "import pandas as pd\n",
    "import numpy as np\n",
    "import glob\n",
    "from sklearn.model_selection import train_test_split\n",
    "from sklearn.preprocessing import StandardScaler\n",
    "from sklearn.linear_model import LogisticRegression\n",
    "from sklearn.linear_model import LinearRegression\n",
    "from sklearn.metrics import classification_report, confusion_matrix, accuracy_score\n",
    "from sklearn.metrics import mean_squared_error, mean_absolute_error, r2_score\n",
    "from sklearn.svm import SVR\n",
    "from sklearn.pipeline import make_pipeline\n",
    "from sklearn.preprocessing import StandardScaler\n",
    "from sklearn.metrics import mean_squared_error, mean_absolute_error, r2_score\n",
    "import matplotlib.pyplot as plt\n"
   ]
  },
  {
   "cell_type": "code",
   "execution_count": null,
   "metadata": {},
   "outputs": [],
   "source": []
  },
  {
   "cell_type": "code",
   "execution_count": 3,
   "metadata": {},
   "outputs": [],
   "source": [
    "#innitiate coded tsv files\n",
    "# Define the list of desired numbers\n",
    "use_all_numbers = True\n",
    "desired_numbers = [2, 3, 4, 10, 11, 16, 17, 18]\n",
    "\n",
    "# Get a list of all .tsv files in the data folder\n",
    "# tsv_files = glob.glob('data/*.tsv')\n",
    "tsv_files = glob.glob('data/newdata/*.tsv')\n",
    "# Filter files based on the flag\n",
    "if use_all_numbers:\n",
    "    filtered_files = tsv_files\n",
    "else:\n",
    "    filtered_files = [file for file in tsv_files if any(f'play{num}coded.tsv' in file for num in desired_numbers)]\n",
    "\n",
    "\n",
    "# Read each file into a DataFrame and store in a list\n",
    "dataframes = [pd.read_csv(file, delimiter='\\t') for file in filtered_files]\n",
    "\n",
    "# Optionally, you can concatenate all DataFrames into a single DataFrame\n",
    "all_data = pd.concat(dataframes, ignore_index=True)"
   ]
  },
  {
   "cell_type": "code",
   "execution_count": 4,
   "metadata": {},
   "outputs": [
    {
     "name": "stderr",
     "output_type": "stream",
     "text": [
      "C:\\Users\\svanl\\AppData\\Local\\Temp\\ipykernel_20384\\4145370749.py:10: FutureWarning: DataFrame.fillna with 'method' is deprecated and will raise in a future version. Use obj.ffill() or obj.bfill() instead.\n",
      "  X = X.fillna(method='ffill')\n"
     ]
    }
   ],
   "source": [
    "# Preprocess data\n",
    "# Drop labels\n",
    "X = all_data.drop(columns=['Score'])\n",
    "\n",
    "# Drop other values\n",
    "X = X.drop(columns=['SequenceID', 'TimeStamp', 'First30SecondsCoinsCollected', 'First30SecondsAsteroidHits'])\n",
    "\n",
    "# Separate target variable\n",
    "y = all_data['Score']\n",
    "X = X.fillna(method='ffill')\n",
    "\n"
   ]
  },
  {
   "cell_type": "code",
   "execution_count": 5,
   "metadata": {},
   "outputs": [],
   "source": [
    "#Split the data\n",
    "X_train, X_test, y_train, y_test = train_test_split(X, y, test_size=0.2, random_state=42)\n",
    "\n",
    "\n",
    "#Scale the features\n",
    "scaler = StandardScaler()\n",
    "X_train = scaler.fit_transform(X_train)\n",
    "X_test = scaler.transform(X_test)\n"
   ]
  }
 ],
 "metadata": {
  "kernelspec": {
   "display_name": ".venv",
   "language": "python",
   "name": "python3"
  },
  "language_info": {
   "codemirror_mode": {
    "name": "ipython",
    "version": 3
   },
   "file_extension": ".py",
   "mimetype": "text/x-python",
   "name": "python",
   "nbconvert_exporter": "python",
   "pygments_lexer": "ipython3",
   "version": "3.12.6"
  }
 },
 "nbformat": 4,
 "nbformat_minor": 2
}
