{
 "cells": [
  {
   "cell_type": "code",
   "execution_count": 1,
   "metadata": {},
   "outputs": [],
   "source": [
    "#imports\n",
    "import pandas as pd\n",
    "import numpy as np\n",
    "import glob\n",
    "from sklearn.model_selection import train_test_split\n",
    "from sklearn.preprocessing import StandardScaler\n",
    "from sklearn.linear_model import LogisticRegression\n",
    "from sklearn.linear_model import LinearRegression\n",
    "from sklearn.metrics import classification_report, confusion_matrix, accuracy_score\n",
    "from sklearn.metrics import mean_squared_error, mean_absolute_error, r2_score"
   ]
  },
  {
   "cell_type": "code",
   "execution_count": 2,
   "metadata": {},
   "outputs": [],
   "source": [
    "#innitiate coded tsv files\n",
    "# Define the list of desired numbers\n",
    "use_all_numbers = False\n",
    "desired_numbers = [2, 3, 4, 10, 11, 16, 17, 18]\n",
    "\n",
    "# Get a list of all .tsv files in the data folder\n",
    "tsv_files = glob.glob('data/*.tsv')\n",
    "# Filter files based on the flag\n",
    "if use_all_numbers:\n",
    "    filtered_files = tsv_files\n",
    "else:\n",
    "    filtered_files = [file for file in tsv_files if any(f'play{num}coded.tsv' in file for num in desired_numbers)]\n",
    "\n",
    "\n",
    "# Read each file into a DataFrame and store in a list\n",
    "dataframes = [pd.read_csv(file, delimiter='\\t') for file in filtered_files]\n",
    "\n",
    "# Optionally, you can concatenate all DataFrames into a single DataFrame\n",
    "all_data = pd.concat(dataframes, ignore_index=True)"
   ]
  },
  {
   "cell_type": "code",
   "execution_count": 3,
   "metadata": {},
   "outputs": [
    {
     "name": "stderr",
     "output_type": "stream",
     "text": [
      "C:\\Users\\svanl\\AppData\\Local\\Temp\\ipykernel_3696\\3784440122.py:10: FutureWarning: DataFrame.fillna with 'method' is deprecated and will raise in a future version. Use obj.ffill() or obj.bfill() instead.\n",
      "  X = X.fillna(method='ffill')\n"
     ]
    }
   ],
   "source": [
    "# Preprocess data\n",
    "# Drop labels\n",
    "X = all_data.drop(columns=['Score'])\n",
    "\n",
    "# Drop other values\n",
    "X = X.drop(columns=['SequenceID', 'TimeStamp', 'First30SecondsCoinsCollected', 'First30SecondsAsteroidHits'])\n",
    "\n",
    "# Separate target variable\n",
    "y = all_data['Score']\n",
    "X = X.fillna(method='ffill')\n",
    "\n",
    "#add weights \n"
   ]
  },
  {
   "cell_type": "code",
   "execution_count": 4,
   "metadata": {},
   "outputs": [],
   "source": [
    "#Split the data\n",
    "X_train, X_test, y_train, y_test = train_test_split(X, y, test_size=0.2, random_state=42)\n",
    "\n",
    "\n",
    "#Scale the features\n",
    "scaler = StandardScaler()\n",
    "X_train = scaler.fit_transform(X_train)\n",
    "X_test = scaler.transform(X_test)\n",
    "\n"
   ]
  },
  {
   "cell_type": "code",
   "execution_count": 5,
   "metadata": {},
   "outputs": [
    {
     "ename": "NameError",
     "evalue": "name 'class_weight' is not defined",
     "output_type": "error",
     "traceback": [
      "\u001b[1;31m---------------------------------------------------------------------------\u001b[0m",
      "\u001b[1;31mNameError\u001b[0m                                 Traceback (most recent call last)",
      "Cell \u001b[1;32mIn[5], line 4\u001b[0m\n\u001b[0;32m      1\u001b[0m \u001b[38;5;66;03m# weights = y_train.apply(lambda score: 0.5 if -10 <= score <= 10 else 1.0)  # Less weight for neutral scores, higher for others\u001b[39;00m\n\u001b[0;32m      2\u001b[0m \n\u001b[0;32m      3\u001b[0m \u001b[38;5;66;03m# class_weights = {0: 0.5, 1: 1.0, 2: 1.0}  # Less weight for 'neutral' class, more for 'positive' and 'negative'\u001b[39;00m\n\u001b[1;32m----> 4\u001b[0m model \u001b[38;5;241m=\u001b[39m LogisticRegression(\u001b[43mclass_weight\u001b[49m)\n\u001b[0;32m      5\u001b[0m model\u001b[38;5;241m.\u001b[39mfit(X_train, y_train)\n",
      "\u001b[1;31mNameError\u001b[0m: name 'class_weight' is not defined"
     ]
    }
   ],
   "source": [
    "# weights = y_train.apply(lambda score: 0.5 if -10 <= score <= 10 else 1.0)  # Less weight for neutral scores, higher for others\n",
    "\n",
    "model = LinearRegression()\n",
    "model.fit(X_train, y_train)"
   ]
  },
  {
   "cell_type": "code",
   "execution_count": null,
   "metadata": {},
   "outputs": [],
   "source": [
    "# Make predictions and evaluate the model\n",
    "y_pred = model.predict(X_test)\n",
    "\n",
    "print(\"Mean Squared Error:\", mean_squared_error(y_test, y_pred))\n",
    "print(\"Mean Absolute Error:\", mean_absolute_error(y_test, y_pred))\n",
    "print(\"R2 Score:\", r2_score(y_test, y_pred))\n"
   ]
  },
  {
   "cell_type": "code",
   "execution_count": null,
   "metadata": {},
   "outputs": [],
   "source": [
    "import matplotlib.pyplot as plt\n",
    "\n",
    "plt.hist(y, bins=20)\n",
    "plt.xlabel('Score')\n",
    "plt.ylabel('Frequency')\n",
    "plt.title('Distribution of Crowd Reaction Scores')\n",
    "plt.show()\n"
   ]
  }
 ],
 "metadata": {
  "kernelspec": {
   "display_name": ".venv",
   "language": "python",
   "name": "python3"
  },
  "language_info": {
   "codemirror_mode": {
    "name": "ipython",
    "version": 3
   },
   "file_extension": ".py",
   "mimetype": "text/x-python",
   "name": "python",
   "nbconvert_exporter": "python",
   "pygments_lexer": "ipython3",
   "version": "3.12.6"
  }
 },
 "nbformat": 4,
 "nbformat_minor": 2
}
